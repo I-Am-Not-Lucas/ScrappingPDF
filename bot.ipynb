{
 "cells": [
  {
   "cell_type": "markdown",
   "metadata": {},
   "source": [
    "# Seção 1: Automação inicial"
   ]
  },
  {
   "cell_type": "markdown",
   "metadata": {},
   "source": [
    "## Importações inicial"
   ]
  },
  {
   "cell_type": "code",
   "execution_count": 27,
   "metadata": {},
   "outputs": [],
   "source": [
    "from selenium import webdriver\n",
    "from selenium.webdriver.common.by import By\n",
    "from webdriver_manager.chrome import ChromeDriverManager\n",
    "from selenium.webdriver.chrome.service import Service\n",
    "\n",
    "from urllib.request import urlopen\n",
    "\n",
    "import time"
   ]
  },
  {
   "cell_type": "code",
   "execution_count": 28,
   "metadata": {},
   "outputs": [],
   "source": [
    "from selenium import webdriver\n",
    "from selenium.webdriver.common.by import By\n",
    "from webdriver_manager.firefox import GeckoDriverManager"
   ]
  },
  {
   "cell_type": "markdown",
   "metadata": {},
   "source": [
    "## Abrindo o navegar e fazendo as procura"
   ]
  },
  {
   "cell_type": "code",
   "execution_count": 29,
   "metadata": {},
   "outputs": [],
   "source": [
    "driver = webdriver.Chrome()\n",
    "driver.get(\"http://diariooficial.imprensaoficial.com.br/nav_v6/index.asp?c=34031&e=20231030&p=1\")\n",
    "time.sleep(2)"
   ]
  },
  {
   "cell_type": "markdown",
   "metadata": {},
   "source": [
    "Esse trecho de código foi necessário, pois a página web estava dentro de um frame que estava agindo como um muro emquanto eu varria a página, ao \"entrar no frame\" sou capaz de varrer novamente"
   ]
  },
  {
   "cell_type": "code",
   "execution_count": 30,
   "metadata": {},
   "outputs": [],
   "source": [
    "driver.switch_to.frame(\"topFrame\")\n",
    "driver.maximize_window()"
   ]
  },
  {
   "cell_type": "code",
   "execution_count": 31,
   "metadata": {},
   "outputs": [],
   "source": [
    "while True:\n",
    "    try: \n",
    "        driver.find_element('xpath', '//*[@id=\"pg\"]/option[27]').click()\n",
    "    except Exception as e:\n",
    "        print(f\"Elemento não foi achado {e}\")\n",
    "        time.sleep(2)\n",
    "    else:\n",
    "        break"
   ]
  },
  {
   "cell_type": "markdown",
   "metadata": {},
   "source": [
    "## Download do arquivo"
   ]
  },
  {
   "cell_type": "code",
   "execution_count": 32,
   "metadata": {},
   "outputs": [],
   "source": [
    "driver.switch_to.default_content()\n",
    "time.sleep(2)"
   ]
  },
  {
   "cell_type": "code",
   "execution_count": 33,
   "metadata": {},
   "outputs": [],
   "source": [
    "#driver.switch_to.frame(\"frame\")"
   ]
  },
  {
   "cell_type": "code",
   "execution_count": 34,
   "metadata": {},
   "outputs": [
    {
     "name": "stdout",
     "output_type": "stream",
     "text": [
      "http://diariooficial.imprensaoficial.com.br/doflash/prototipo/2023/Outubro/30/exec3/pdf/pg_0137.pdf\n"
     ]
    }
   ],
   "source": [
    "elemento_ = driver.find_element('xpath', '//*[@id=\"frame\"]')\n",
    "link = elemento_.get_attribute('src')\n",
    "print(link)\n"
   ]
  },
  {
   "cell_type": "code",
   "execution_count": 35,
   "metadata": {},
   "outputs": [],
   "source": [
    "driver.get(link)"
   ]
  },
  {
   "cell_type": "code",
   "execution_count": 36,
   "metadata": {},
   "outputs": [
    {
     "name": "stdout",
     "output_type": "stream",
     "text": [
      "Dowload feito com sucesso\n",
      "\n"
     ]
    }
   ],
   "source": [
    "try:\n",
    "    response = urlopen(link)\n",
    "\n",
    "    with open(\"pagina_scrapping.pdf\", \"wb\") as file:\n",
    "        file.write(response.read())\n",
    "except:\n",
    "    print(\"Deu errado\")\n",
    "else:\n",
    "    print(\"Dowload feito com sucesso\")\n",
    "\n",
    "print(response.read().decode('utf-8'))"
   ]
  },
  {
   "cell_type": "markdown",
   "metadata": {},
   "source": [
    "## Seção 2: uso do regex e varredura de pdf"
   ]
  },
  {
   "cell_type": "code",
   "execution_count": 37,
   "metadata": {},
   "outputs": [],
   "source": [
    "import regex as re"
   ]
  },
  {
   "cell_type": "code",
   "execution_count": 38,
   "metadata": {},
   "outputs": [],
   "source": [
    "import PyPDF2\n",
    "\n",
    "def ler_pdf(path):\n",
    "    with open(path, 'rb') as arquivo_pdf:\n",
    "        reader = PyPDF2.PdfReader(arquivo_pdf)\n",
    "\n",
    "\n",
    "        # Lê o conteúdo de cada página\n",
    "        pagina = reader.pages[0]\n",
    "        texto = pagina.extract_text()\n",
    "        return texto\n",
    "\n",
    "# Substitua 'caminho_do_seu_pdf.pdf' pelo caminho do seu arquivo PDF\n",
    "path = 'pagina_scrapping.pdf'\n",
    "\n",
    "conteudo = ler_pdf(path)\n"
   ]
  },
  {
   "cell_type": "code",
   "execution_count": 44,
   "metadata": {},
   "outputs": [],
   "source": [
    "padrao = re.compile(r'\\bTOMADA\\sDE\\sPREÇOS\\s\\b.{18}')\n",
    "\n",
    "correspondencias = re.findall(padrao, conteudo)"
   ]
  },
  {
   "cell_type": "code",
   "execution_count": 45,
   "metadata": {},
   "outputs": [
    {
     "name": "stdout",
     "output_type": "stream",
     "text": [
      "TOMADA DE PREÇOS Nº: 69/00654/23/02\n",
      "TOMADA DE PREÇOS Nº: 50/00007/23/02\n",
      "TOMADA DE PREÇOS Nº: 50/00007/22/02\n",
      "TOMADA DE PREÇOS Nº: 50/00008/23/02\n",
      "TOMADA DE PREÇOS Nº: 50/00009/23/02\n",
      "TOMADA DE PREÇOS Nº: 46/00046/23/02\n"
     ]
    }
   ],
   "source": [
    "for valor in correspondencias:\n",
    "    print(valor)"
   ]
  }
 ],
 "metadata": {
  "kernelspec": {
   "display_name": "desafioenv",
   "language": "python",
   "name": "python3"
  },
  "language_info": {
   "codemirror_mode": {
    "name": "ipython",
    "version": 3
   },
   "file_extension": ".py",
   "mimetype": "text/x-python",
   "name": "python",
   "nbconvert_exporter": "python",
   "pygments_lexer": "ipython3",
   "version": "3.11.2"
  }
 },
 "nbformat": 4,
 "nbformat_minor": 2
}
