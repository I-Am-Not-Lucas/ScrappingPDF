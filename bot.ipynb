{
 "cells": [
  {
   "cell_type": "markdown",
   "metadata": {},
   "source": [
    "# Seção 1: Automação inicial"
   ]
  },
  {
   "cell_type": "markdown",
   "metadata": {},
   "source": [
    "## Importações inicial"
   ]
  },
  {
   "cell_type": "code",
   "execution_count": 27,
   "metadata": {},
   "outputs": [],
   "source": [
    "from selenium import webdriver\n",
    "from selenium.webdriver.common.by import By\n",
    "from webdriver_manager.chrome import ChromeDriverManager\n",
    "from selenium.webdriver.chrome.service import Service\n",
    "\n",
    "from urllib.request import urlopen\n",
    "\n",
    "import time"
   ]
  },
  {
   "cell_type": "code",
   "execution_count": 28,
   "metadata": {},
   "outputs": [],
   "source": [
    "from selenium import webdriver\n",
    "from selenium.webdriver.common.by import By\n",
    "from webdriver_manager.firefox import GeckoDriverManager"
   ]
  },
  {
   "cell_type": "markdown",
   "metadata": {},
   "source": [
    "## Abrindo o navegar e fazendo as procura"
   ]
  },
  {
   "cell_type": "code",
   "execution_count": 29,
   "metadata": {},
   "outputs": [],
   "source": [
    "driver = webdriver.Chrome()\n",
    "driver.get(\"http://diariooficial.imprensaoficial.com.br/nav_v6/index.asp?c=34031&e=20231030&p=1\")\n",
    "time.sleep(2)"
   ]
  },
  {
   "cell_type": "markdown",
   "metadata": {},
   "source": [
    "Esse trecho de código foi necessário, pois a página web estava dentro de um frame que estava agindo como um muro emquanto eu varria a página, ao \"entrar no frame\" sou capaz de varrer novamente"
   ]
  },
  {
   "cell_type": "code",
   "execution_count": 30,
   "metadata": {},
   "outputs": [],
   "source": [
    "driver.switch_to.frame(\"topFrame\")\n",
    "driver.maximize_window()"
   ]
  },
  {
   "cell_type": "code",
   "execution_count": 31,
   "metadata": {},
   "outputs": [],
   "source": [
    "while True:\n",
    "    try: \n",
    "        driver.find_element('xpath', '//*[@id=\"pg\"]/option[27]').click()\n",
    "    except Exception as e:\n",
    "        print(f\"Elemento não foi achado {e}\")\n",
    "        time.sleep(2)\n",
    "    else:\n",
    "        break"
   ]
  },
  {
   "cell_type": "markdown",
   "metadata": {},
   "source": [
    "## Download do arquivo"
   ]
  },
  {
   "cell_type": "code",
   "execution_count": 32,
   "metadata": {},
   "outputs": [],
   "source": [
    "driver.switch_to.default_content()\n",
    "time.sleep(2)"
   ]
  },
  {
   "cell_type": "code",
   "execution_count": 33,
   "metadata": {},
   "outputs": [],
   "source": [
    "#driver.switch_to.frame(\"frame\")"
   ]
  },
  {
   "cell_type": "code",
   "execution_count": 34,
   "metadata": {},
   "outputs": [
    {
     "name": "stdout",
     "output_type": "stream",
     "text": [
      "http://diariooficial.imprensaoficial.com.br/doflash/prototipo/2023/Outubro/30/exec3/pdf/pg_0137.pdf\n"
     ]
    }
   ],
   "source": [
    "elemento_ = driver.find_element('xpath', '//*[@id=\"frame\"]')\n",
    "link = elemento_.get_attribute('src')\n",
    "print(link)\n"
   ]
  },
  {
   "cell_type": "code",
   "execution_count": 35,
   "metadata": {},
   "outputs": [],
   "source": [
    "driver.get(link)"
   ]
  },
  {
   "cell_type": "code",
   "execution_count": 36,
   "metadata": {},
   "outputs": [
    {
     "name": "stdout",
     "output_type": "stream",
     "text": [
      "Dowload feito com sucesso\n",
      "\n"
     ]
    }
   ],
   "source": [
    "try:\n",
    "    response = urlopen(link)\n",
    "\n",
    "    with open(\"pagina_scrapping.pdf\", \"wb\") as file:\n",
    "        file.write(response.read())\n",
    "except:\n",
    "    print(\"Deu errado\")\n",
    "else:\n",
    "    print(\"Dowload feito com sucesso\")\n",
    "\n",
    "print(response.read().decode('utf-8'))"
   ]
  },
  {
   "cell_type": "markdown",
   "metadata": {},
   "source": [
    "## Seção 2: uso do regex e varredura de pdf"
   ]
  },
  {
   "cell_type": "code",
   "execution_count": 37,
   "metadata": {},
   "outputs": [],
   "source": [
    "import regex as re"
   ]
  },
  {
   "cell_type": "code",
   "execution_count": 38,
   "metadata": {},
   "outputs": [],
   "source": [
    "import PyPDF2\n",
    "\n",
    "def ler_pdf(path):\n",
    "    with open(path, 'rb') as arquivo_pdf:\n",
    "        reader = PyPDF2.PdfReader(arquivo_pdf)\n",
    "\n",
    "\n",
    "        # Lê o conteúdo de cada página\n",
    "        pagina = reader.pages[0]\n",
    "        texto = pagina.extract_text()\n",
    "        return texto\n",
    "\n",
    "# Substitua 'caminho_do_seu_pdf.pdf' pelo caminho do seu arquivo PDF\n",
    "path = 'pagina_scrapping.pdf'\n",
    "\n",
    "conteudo = ler_pdf(path)\n"
   ]
  },
  {
   "cell_type": "code",
   "execution_count": 39,
   "metadata": {},
   "outputs": [
    {
     "data": {
      "text/plain": [
       "'segunda-feira, 30 de outubro de 2023 Diário Oﬁ  cial  Caderno Executivo - Seção III São Paulo, 133 (105) – 137\\nde enquadramento como Microempresa ou Empresa de Pequeno \\nPorte e Declaração de enquadramento como cooperativa que preencha as condições estabelecidas no art. 34, da Lei Federal nº 11.488/2007, deverão ser entregues no ato de abertura da ses-são, na Sala de Licitações no 1º Andar – Gerência de Licitações da Fundação para o Desenvolvimento da Educação - FDE, na Av. São Luís, 99 - São Paulo - SP .\\nEsta Licitação será processada em conformidade com a LEI \\nFEDERAL nº 8.666/1993, pela Lei Estadual n° 6.544/1989, com as alterações da Lei Estadual nº 13.121/2008, pelo Decreto Esta-\\ndual nº 56.565/2010, Lei Complementar nº 123 de 14/12/2006, \\nalterada pela Lei Complementar nº 147 de 07/08/2014 e pelas demais normas legais e regulamentares aplicáveis à espécie e \\ncom o disposto no TERMO DE REFERÊNCIA - TR, parte integrante \\ndo edital. A opção da Administração por licitar de acordo com a Lei Federal nº 8.666/1993 e as normas mencionadas no parágra-\\nfo anterior observa o disposto no artigo 191 combinado com o \\ninciso II do artigo 193 da Lei Federal nº 14.133/2021.\\nALESSANDRO HIDALGO\\nGerente de Licitações\\n Julgamento de Licitações – HabilitaçãoTOMADA DE PREÇOS Nº 69/00291/23/02 – FDE SEI - \\n229.00003410/2023-04, referente a Serviços Especializados de \\nEngenharia - Reforma na(s) EE Prof Nelson Alves Tremura - Paulo \\nde Faria - SP . Em relação a documentação apresentada, esclare-cemos: Para o item Qualificação Técnica os documentos foram \\ndevidamente analisados por Técnico responsável/DOS. Quanto \\naos itens referente a Habilitação Jurídica, Regularidade Fiscal e Trabalhista e Qualificação Econômico-Financeira os documentos \\nforam devidamente analisados conforme planilha anexa. Assim \\nsendo a Comissão Julgadora de Licitações decide:\\nINABILITAR as empresas:Continental Construtora Eireli, deixou de atender a letra \\n\"a\" do subitem 5.1.2. do Edital (apresentou Prova de Inscrição \\ndo CNPJ com prazo vencido); a letra “b” do subitem 5.1.2. do Edital (não apresentou prova de inscrição no cadastro de Con-\\ntribuintes Municipal ou Estadual); a letra \"b e \"c\" do subitem \\n5.1.3. do Edital (não apresentou Balanço Patrimonial e Demons-trações Contábeis equivalente ao último exercício social); a letra \\n\"a\" do subitem 5.1.4 do Edital (apresentou registro no CREA \\ncom prazo vencido); a letra \\'b\" do subitem 5.1.4 do Edital (não comprovou através dos atestados apresentados em nome da empresa, as quantidades solicitadas no Edital e a execução de \\nserviços de ar condicionado em obras similares); a letra \"c\" e \\n\"c.6\" do subitem 5.1.4 do Edital ( não apresentou certificado de visita técnica e/ou declaração de não realização de visita \\ntécnica), o subitem 5.1.5.3 do Edital (não apresentou declaração \\nsobre o CADMINÉRIO).\\nGomes & Benez Engenharia Ltda, deixou de atender a letra \\n\"b\" do subitem 5.1.4. do Edital (não comprovou através dos \\natestados apresentados em nome da empresa, as quantidades solicitadas no Edital e a execução de serviços de alta tensão).\\nHABILITAR a empresa: Prime Engenharia e Construções \\nOlímpia Ltda.\\nAnte o exposto e considerando o critério de julgamento \\nestabelecido no Edital (Menor Preço), esta Comissão sugere a \\nadjudicação do objeto da presente licitação à empresa habilita-\\nda com o menor preço, Prime Engenharia e Construções Olímpia Ltda, pelo valor correspondente a R$ 2.316.397,47 (dois milhões, \\ntrezentos e dezesseis mil, trezentos e noventa e sete reais e \\nquarenta e sete centavos).\\nFica aberto prazo de 5 (cinco) dias úteis para interposição \\nde recursos, contados a partir da data de publicação deste pare-\\ncer no Diário Oficial do Estado.\\nCONCORRÊNCIA Nº 70/00559/22/01 - FDE-SEI \\n229.00001564/2023-53, referente a Serviços Especializados de \\nEngenharia na(S) EE Maria Jose - São Paulo -SP , EE Prof Reynaldo \\nPorchat - São Paulo - SP , EE Prof Victor Oliva - São Paulo -SP e EE Prof Emygdio de Barros - São Paulo -SP . Tendo em vista a inabi-\\nlitação de empresas participantes, com fulcro no § 3º do Art. 48 \\nda Lei 8666/93 e subitem 8.6. do Edital, fixou o prazo de 8 (oito) dias úteis para apresentação, por parte das licitantes, de novo envelope contendo os documentos indispensáveis à habilitação, \\nescoimados das causas que ensejaram suas inabilitações. A \\nempresa Polosul – Engenharia e Construções Eireli- EPP apresen-tou seu envelope. Após análise da documentação apresentada, a \\nComissão Julgadora de Licitações decide: HABILITAR a empresa \\nPolosul – Engenharia e Construções Eireli – EPP .\\nAnte o exposto e considerando o critério de julgamento \\nestabelecido no Edital (Menor Preço), esta Comissão sugere a \\nadjudicação do objeto da presente licitação à empresa habili-tada com o menor preço, Polosul – Engenharia e Construções Eireli – EPP , pelo valor correspondente a R$ 5.405.175,75 (cinco \\nmilhões, quatrocentos e cinco mil, cento e setenta e cinco reais \\ne setenta e cinco centavos).\\nFica aberto prazo de 5 (cinco) dias úteis para interposição \\nde recursos, contados a partir da data de publicação deste pare-\\ncer no Diário Oficial do Estado.\\nDespacho do Diretor de Obras e Serviços e do Presidente de \\n27-10-2023 – HOMOLOGAÇÃO / ADJUDICAÇÃO\\nHomologo o procedimento licitatório, relativo ao Registro \\nde Preços Nº 10/00005/23/01 - FDE SEI – 22900000217/2023-11 – Lote 01, para a Execução de Pequenos Serviços de Engenharia, \\nRelativos a Reparos e Manutenção Corretiva, nos Prédios Esco-\\nlares e Administrativos vinculados a Rede Pública Estadual de Ensino - REGIÃO - FERNANDOPOLIS; JALES, e adjudico o objeto \\ndo certame conforme segue:\\n1ª Detentora - APENG SERVIÇOS E CONSTRUÇÕES LTDA.2ª Detentora - RODOSERV ENGENHARIA LTDA.\\n3ª Detentora - GHM CONSTRUTORA LTDA.\\nHomologo o procedimento licitatório, relativo ao Registro \\nde Preços Nº 10/00005/23/01 - FDE SEI – 22900000217/2023-11 \\n– Lote 02, para a Execução de Pequenos Serviços de Engenharia, \\nRelativos a Reparos e Manutenção Corretiva, nos Prédios Esco-lares e Administrativos vinculados a Rede Pública Estadual de Ensino - REGIÃO - JOSE BONIFACIO; VOTUPORANGA, e adjudico \\no objeto do certame conforme segue:\\n1ª Detentora - RODOSERV ENGENHARIA LTDA.2ª Detentora - GHM CONSTRUTORA LTDA.\\n3ª Detentora - NEWEN CONSTRUTORA E INCORPORADORA \\nLTDA.\\nHomologo o procedimento licitatório, relativo ao Registro \\nde Preços Nº 10/00005/23/01 - FDE SEI – 22900000217/2023-11 \\n– Lote 03, para a Execução de Pequenos Serviços de Engenharia, Relativos a Reparos e Manutenção Corretiva, nos Prédios Esco-lares e Administrativos vinculados a Rede Pública Estadual de Ensino - REGIÃO - CATANDUVA; TAQUARITINGA, e adjudico o \\nobjeto do certame conforme segue:\\n1ª Detentora - CAMILA CONSTRUTORA LTDA.2ª Detentora - GFL ENGENHARIA LTDA.\\n3ª Detentora - ATLÂNTICA CONSTRUÇÕES, COMÉRCIO E \\nSERVIÇOS LTDA.\\nHomologo o procedimento licitatório, relativo ao Registro \\nde Preços Nº 10/00005/23/01 - FDE SEI – 22900000217/2023-11 \\n– Lote 04, para a Execução de Pequenos Serviços de Engenharia, \\nRelativos a Reparos e Manutenção Corretiva, nos Prédios Esco-lares e Administrativos vinculados a Rede Pública Estadual de \\nEnsino - REGIÃO - SAO JOSE DO RIO PRETO, e adjudico o objeto \\ndo certame conforme segue:\\n1ª Detentora - GHM CONSTRUTORA LTDA.\\n2ª Detentora - VPP ENGENHARIA LTDA.\\n3ª Detentora - PONTO FORTE CONSTRUÇÕES E EMPREEN-\\nDIMENTOS LTDA.\\nHomologo o procedimento licitatório, relativo ao Registro \\nde Preços Nº 10/00005/23/01 - FDE SEI – 22900000217/2023-11 \\n– Lote 05, para a Execução de Pequenos Serviços de Engenha-\\nria, Relativos a Reparos e Manutenção Corretiva, nos Prédios \\nEscolares e Administrativos vinculados a Rede Pública Estadual / LOCALIZAÇÃO(ÕES): EE Profa Marlene Frattine – Av Aldo Nico-\\nlucci, 560 – Araraquara – SP - ABERTURA DA LICITAÇÃO (DIA E HORA): 05/12/2023, às 14:00 hs.\\n \\x81 TOMADA DE PREÇOS Nº: 69/00654/23/02 - FDE-SEI \\n229.00005000/2023-90 – OBJETO: Serviços Especializados de Engenharia – Reforma - PRÉDIO(S) / LOCALIZAÇÃO(ÕES): EE Prof Joaquim Goulart – Rua Yoshico Samitsu, 395 – Serrote – Registro, em SP - ABERTURA DA LICITAÇÃO (DIA E HORA): 05/12/2023, às 14:30 hs.\\nO(s) Edital(is) poderá(ão) ser obtido(s) gratuitamente nos \\nendereços eletrônicos http://www.imprensaoficial.com.br e www.fde.sp.gov.br.\\nA(s) planilha(s) Quantitativa(s) de Serviços e Preços \\ndeverá(ao) ser dispostas em formato BIN (arquivo de retorno - RET), gerada(s) OBRIGATORIAMENTE através do aplicativo DIGITAGRP , o qual deverá ser instalado individualmente por \\npessoa jurídica (CNPJ), para serem inserida(s) em CD-ROM \\n- (APLICATIVO DIGITA GRPV5003 PLANILHA QUANTITATIVA - versão JANEIRO / 2021 http://www.fde.sp.gov.br/PagePublic/PesquisaLicitacoes.aspx?codigoMenu=28) (MANUAL DE INS-TALAÇÃO- http://file.fde.sp.gov.br/portalfde/Arquivo/DocLicita-coes/Manual_do_Sistema_de_Digitacao_de_Propostas_Ver-sao_para_o_site.pdf) através do endereço eletrônico www.fde.sp.gov.br – Licitações.\\nA(s) planilha(s) Quantitativa(s) de Serviços e Preços \\ndeverá(ao) ser(em) adquirida(s) através do endereço eletrônico www.fde.sp.gov.br - Licitações.\\nOs invólucros contendo as PROPOSTAS COMERCIAIS e os \\nDOCUMENTOS DE HABILITAÇÃO juntamente com a Declaração \\nde Pleno Atendimento aos Requisitos de Habilitação, Declaração \\nde enquadramento como Microempresa ou Empresa de Pequeno Porte e Declaração de enquadramento como cooperativa que preencha as condições estabelecidas no art. 34, da Lei Federal nº 11.488/2007, deverão ser entregues no ato de abertura da ses-são, na Sala de Licitações no 1º Andar – Gerência de Licitações da Fundação para o Desenvolvimento da Educação - FDE, na Av. São Luís, 99 - São Paulo - SP .\\nEsta Licitação será processada em conformidade com a LEI \\nFEDERAL nº 8.666/1993, pela Lei Estadual n° 6.544/1989, com as alterações da Lei Estadual nº 13.121/2008, pelo Decreto Esta-dual nº 56.565/2010, Lei Complementar nº 123 de 14/12/2006, alterada pela Lei Complementar nº 147 de 07/08/2014 e pelas demais normas legais e regulamentares aplicáveis à espécie e \\ncom o disposto no TERMO DE REFERÊNCIA - TR, parte integrante \\ndo edital. A opção da Administração por licitar de acordo com a Lei Federal nº 8.666/1993 e as normas mencionadas no parágra-fo anterior observa o disposto no artigo 191 combinado com o inciso II do artigo 193 da Lei Federal nº 14.133/2021.\\nALESSANDRO HIDALGOGerente de Licitações GOVERNO DO ESTADO DE SÃO PAULOSECRETARIA DE ESTADO DA EDUCAÇÃOFDE AVISA: ABERTURA DE LICITAÇÃO – SERVIÇOS TOPO-\\nGRÁFICOS\\nA FUNDAÇÃO PARA O DESENVOLVIMENTO DA EDUCAÇÃO \\n- FDE comunica às empresas interessadas que acha-se aberta \\nlicitação para execução de Serviços Especialzados de Engenharia \\nde Levantamento Planialtimétrico dos Imóveis Relacionados em Equipamentos/Materiais/Serviços:\\n\\x81 TOMADA DE PREÇOS Nº: 50/00007/23/02 - FDE-SEI \\n229.00004637/2023-69 – PRÉDIO(S) / LOCALIZAÇÃO(ÕES): EE Dr. Américo Marco Antônio, Rua João Mirassol, 436 – Vila Pes-tana – 06122-170 – Osasco – SP - EE Artur Segurado / Instituto de Tecnologia de Alimentos, Av. Brasil, 2080 – Jardim Brasil – 13073-001 – Campinas – SP - EE Cristiano Volkart, Praça Paul Harris, 105 – Nova Campinas – 13093-471 – Campinas – SP - EE Monsenhor Luís Gonzaga de Moura, Rua Carlos Francheau, 100 – Cambuí – 13023-060 – Campinas – SP - EE Prof. Hilton Federici, Rua Eduardo Modesto, 91 – Vila Santa Izabel – 13084-360 – Campinas – SP - EE Júlia Luiz Ruete, Rua Hileia, s/n – Jardim Andorinhas – 13097-320 – Campinas – SP - EE Gustavo Marcondes, Av. Almeida Garret, 787 – Parque Taquaral – 13087-\\n291 – Campinas – SP - ABERTURA DA LICITAÇÃO (DIA E HORA): \\n06/12/2023, às 09:30 hs.\\n \\x81 TOMADA DE PREÇOS Nº: 50/00007/22/02 - FDE-SEI \\n229.00003599/2023-27 – PRÉDIO(S) / LOCALIZAÇÃO(ÕES): EE Claudio Abramo, Rua Baependy, 285-Jardim Maria Tereza - 09931-090 – Diadema – SP - EE Profª Olga Fonseca, Rua Natal, 216 – Jardim do Parque – 09910-220 – Diadema – SP - EE Prof. Augusto de Oliveira Jordão, Rua Cdor José Silva Araujo, 18 – Jar-dim Maravilha - 09940-370 – Diadema – SP - EE Diadema, Rua Antonio Doll de Morais, 76 – Jardim Gabriel Correia – 09920-490 – Diadema – SP - EE Sergio Buarque de Holanda, Rua 19 de Novembro, 21 – Jardim Santa Dirce – 09912-140 – Diadema – SP - EE Prof. Aldemir de Souza Castro, Av. Dona Ruyce Ferraz \\nAlvim, 3431 – Jardim Ruyce – 09961- 540 – Diadema – SP - Tipo \\ndo levantamento: 4 - ABERTURA DA LICITAÇÃO (DIA E HORA): 06/12/2023, às 10:00 hs.\\n \\x81 TOMADA DE PREÇOS Nº: 50/00008/23/02 - FDE-SEI \\n229.00004654/2023-04 – PRÉDIO(S) / LOCALIZAÇÃO(ÕES): EE João Martins, Estrada de Itapecerica – Campo Limpo, 52 – Jar-dim Célia Regina – 06823-000 – Embu das Artes – SP - EE Maria Cristina Lopes, Rua Rio Grande do Sul, 59 – Jardim Alvorada – 06612-220 – Jandira – SP - EE Prof. Alfredo Burkart, Rua Boa Vista, 200 – Boa Vista – 09572-300 – São Caetano do Sul – SP - EE Prof. André Broca, Rua Roque Vieira, 83 – Centro – 12580-000 – Roseira – SP - EE Prof. Dr. Norberto de Souza Pinto, Rua Jean Paul Sartre, 585 – Jardim Novo Campos Elísios – 13060-\\n413 – Campinas – SP - EE Regina Coutinho Nogueira, Rua Nuno \\nÁlvares Pereira, 180 – Vila Nogueira – 13088-420 – Campinas – SP - EE Profª Angelina Lia Rolfsen, Av. Eng. Domingos Ferrari Júnior, s/n – Cecap – 14808-212 – Araraquara – SP - ABERTURA DA LICITAÇÃO (DIA E HORA): 06/12/2023, às 10:30 hs.\\n \\x81 TOMADA DE PREÇOS Nº: 50/00009/23/02 - FDE-SEI \\n229.00004924/2023-79 – PRÉDIO(S) / LOCALIZAÇÃO(ÕES): EE Prof. Esli Garcia Diniz, Rua Maranhão, 32 – Centro – 07400-000 – Arujá – SP - EE Profª Maria Pastana Menato, Rua Prof. Antonio Nunes, 249 – Jardim Santa Luzia – 09430-380 – Ribeirão Pires – SP - EE Valentino Redivo, Rua Dona Anna Lacivita do Amaral, 28 – Jardim Valentina – 09412-350 – Ribeirão Pires – SP - EE Prefei-to Francisco Arnoni, Rua Marechal Humberto de Alencar Castelo Branco, 190 – Vila Suely – 09426-120 – Ribeirão Pires – SP - EE \\nFortunato Pandolfi Arnoni, Praça Boa Sorte, 162 – Jardim Boa \\nSorte – 09402-400 – Ribeirão Pires – SP - EE/CEL Amaral Wagner, Rua dos Aliados, 332 – Vila São Pedro – 09210-210 – Santo André – SP - EE Valentim Gentil, Av. Capitão Venâncio de Oliveira Machado, 648 – Centro – 14900-000 – Itápolis – SP - ABERTURA \\nDA LICITAÇÃO (DIA E HORA): 06/12/2023, às 11:00 hs.\\nO Edital poderá ser obtido gratuitamente nos endere-\\nços eletrônicos http://www.imprensaoficial.com.br e www.fde.\\nsp.gov.br.\\nA(s) planilha(s) Quantitativa(s) de Serviços e Preços \\ndeverá(ao) ser dispostas em formato BIN (arquivo de retorno \\n- RET), gerada(s) OBRIGATORIAMENTE através do aplicativo \\nDIGITAGRP , o qual deverá ser instalado individualmente por \\npessoa jurídica (CNPJ), para serem inserida(s) em CD-ROM \\n- (APLICATIVO DIGITA GRPV5003 PLANILHA QUANTITATIVA - \\nversão JANEIRO / 2021 http://www.fde.sp.gov.br/PagePublic/\\nPesquisaLicitacoes.aspx?codigoMenu=28) (MANUAL DE INS-\\nTALAÇÃO- http://file.fde.sp.gov.br/portalfde/Arquivo/DocLicita-\\ncoes/Manual_do_Sistema_de_Digitacao_de_Propostas_Ver-\\nsao_para_o_site.pdf) através do endereço eletrônico www.fde.\\nsp.gov.br – Licitações.\\nA(s) planilha(s) Quantitativa(s) de Serviços e Preços \\ndeverá(ao) ser(em) adquirida(s) através do endereço eletrônico \\nwww.fde.sp.gov.br - Licitações.\\nOs invólucros contendo as PROPOSTAS COMERCIAIS e os \\nDOCUMENTOS DE HABILITAÇÃO juntamente com a Declaração \\nde Pleno Atendimento aos Requisitos de Habilitação, Declaração de Pregão Eletrônico DA nº. 031/DA/2023 , oferta de compra \\n080102000012023OC00027, visando contratação de serviços de transporte mediante locação de veículos seminovos em caráter não eventual, com condutor, manutenção e com com-bustível, objetivando o deslocamento para apoio das atividades técnico-administrativas da Secretaria com a empresa LOCALIZA VEÍCULOS ESPECIAIS, inscrita no CNPJ sob nº 02.491.558/0001-42, no valor mensal de R$ 18.220,45 (dezoito mil e duzentos e vinte reais e quarenta e cinco centavos) totalizando o valor de R$ 218.645,40 (duzentos e dezoito mil e seiscentos e quarenta \\ne cinco reais e quarenta centavos) para o período de 12 (doze) \\nmeses.\\n COORDENADORIA DE INFRAESTRUTURA E \\nSERVIÇOS ESCOLARES\\n Nº do Processo: 015.00019495/2023-77\\nTrata-se de licitação na modalidade Pregão Eletrônico cujo \\nedital é o nº 048/CISE/2023, realizado no sistema BEC/SP através \\nda Oferta de Compras nº 080358000012023OC00045, para a prestação de serviços de editoração/diagramação, tratamento/vetorização de imagens dos materiais didáticos e pedagógicos \\nde apoio ao Currículo Paulista.\\nConforme relatório do Pregoeiro, no documento 10464481, \\na sessão publica foi aberta em data e horário previamente \\nestipulados, sendo regularmente classificadas as propostas \\ncomerciais apresentadas por todas as licitantes.\\nNa sequência, a proposta da licitante MCP DA COSTA \\nDESIGN EDITORIAL (FOR0246) – CNPJ 16.814.143/0001-77 foi \\ndesclassificada por apresentar valor inexequível, além de per-manecer offline na sessão pública, sem manifestar-se quando questionada sobre sua proposta.\\nSuperada a etapa, passou-se à fase de lances, que transcorreu \\nsem intercorrências, restando classificada em primeiro lugar para o lote único a empresa ZEPPELINI SOLUÇÕES EM TEXTO LTDA \\n(FOR0487) – CNPJ 08.335.436/0001-43. No entanto, na etapa de \\nhabilitação, foi constatado que a Demonstração de Resultado de Exercício 2022 apresentado pela empresa excedia o limite estabe-lecido para Microempresas, sendo, portanto, inabilitada.\\nAto contínuo, foi chamada a segunda colocada que, após \\nvárias intervenções para redução do preço, teve seu valor considerado não aceitável por estar acima do referencial. Na \\nsequência, a terceira colocada também não conseguiu alcançar \\no preço referencial e teve seu preço considerado não aceitável.\\nEm continuidade, foi chamada a quarta colocada que teve \\nseu preço considerado não aceitável por estar ausente na sessão \\npública quando chamada para negociação. Assim como a quarta colocada, a quinta colocada também estava ausente na sessão pública quando chamada para negociação e teve seu preço \\nconsiderado não aceitável.\\nPor fim, foi chamada a sexta e última licitante que, apesar \\nde estar sinalizada como online na sessão, não se manifestou \\nem momento algum quando chamada reiteradas vezes para a \\nnegociação.\\nDesse modo, em atenção ao artigo 3º, inciso V, do Decreto \\nEstadual nº 47.297/2002, DECLARO FRACASSADO o proce-\\ndimento licitatório nº 048/CISE/2023, oferta de compra n° \\n080358000012023OC00045, como autoridade do Pregão da Coordenadoria de Infraestrutura e Serviços Escolares - CISE.\\n EDITAL DE PREGÃO ELETRÔNICO OBJETIVANDO A PRESTA-\\nÇÃO DE SERVIÇOS NÃO CONTÍNUOS – PARTICIPAÇÃO AMPLA\\nPRESTAÇÃO DE SERVIÇOS DE EDITORAÇÃO/DIAGRAMA-\\nÇÃO, TRATAMENTO/VETORIZAÇÃO DE IMAGENS DOS MATE-\\nRIAIS DIDÁTICOS E PEDAGÓGICOS DE APOIO AO CURRÍCULO PAULISTA\\nEDITAL DE PREGÃO ELETRÔNICO n.° 050/CISE/2023\\nPROCESSO n.° 015.00019495/2023-77\\nOFERTA DE COMPRA N° 080358000012023OC00048ENDEREÇO ELETRÔNICO: www.bec.sp.gov.br\\nDATA DO INÍCIO DO PRAZO PARA ENVIO DA PROPOSTA \\nELETRÔNICA: 30/10/2023\\nDATA E HORA DA ABERTURA DA SESSÃO PÚBLICA: \\n14/11/2023 – às 10h00min\\n FUNDAÇÃO PARA O DESENVOLVIMENTO DA \\nEDUCAÇÃO\\n GOVERNO DO ESTADO DE SÃO PAULO\\nSECRETARIA DE ESTADO DA EDUCAÇÃO\\nFDE AVISA: ABERTURA DE LICITAÇÃO (TIPO TÉCNICA E \\nPREÇO) – PROJETO\\nA FUNDAÇÃO PARA O DESENVOLVIMENTO DA EDUCAÇÃO \\n- FDE comunica às empresas interessadas que acha-se aberta licitação para execução de Projeto Executivo de Acessibilidade:\\n\\x81 TOMADA DE PREÇOS Nº: 46/00046/23/02 - FDE-SEI \\n29.00000011/2023-76 - PRÉDIO(S) / LOCALIZAÇÃO(ÕES): EE \\nProf Alceu Gomes da Silva - Avenida Pe Antonio Brunetti, s/n - Cep: 18208-080 - Vila Sonia - Itapetininga-SP - ABERTURA DA \\nLICITAÇÃO (DIA E HORA): 05/12/2023, às 11:00 hs.\\nO Edital poderá ser obtido gratuitamente nos endere-\\nços eletrônicos http://www.imprensaoficial.com.br e www.fde.\\nsp.gov.br.\\nA(s) planilha(s) Quantitativa(s) de Serviços e Preços \\ndeverá(ao) ser dispostas em formato BIN (arquivo de retorno - RET), gerada(s) OBRIGATORIAMENTE através do aplicativo \\nDIGITAGRP , o qual deverá ser instalado individualmente por \\npessoa jurídica (CNPJ), para serem inserida(s) em CD-ROM - (APLICATIVO DIGITA GRPV5003 PLANILHA QUANTITATIVA - \\nversão JANEIRO / 2021 http://www.fde.sp.gov.br/PagePublic/\\nPesquisaLicitacoes.aspx?codigoMenu=28) (MANUAL DE INS-TALAÇÃO- http://file.fde.sp.gov.br/portalfde/Arquivo/DocLicita-coes/Manual_do_Sistema_de_Digitacao_de_Propostas_Ver-\\nsao_para_o_site.pdf) através do endereço eletrônico www.fde.\\nsp.gov.br – Licitações.\\nA(s) planilha(s) Quantitativa(s) de Serviços e Preços \\ndeverá(ao) ser(em) adquirida(s) através do endereço eletrônico \\nwww.fde.sp.gov.br - Licitações.\\nOs invólucros contendo as PROPOSTAS TÉCNICAS, as PRO-\\nPOSTAS COMERCIAIS e os DOCUMENTOS DE HABILITAÇÃO, jun-\\ntamente com a Declaração de Pleno Atendimento aos Requisitos de Habilitação, Declaração de enquadramento como Microempre-sa ou Empresa de Pequeno Porte e Declaração de enquadramento \\ncomo cooperativa que preencha as condições estabelecidas no \\nart. 34, da Lei Federal nº 11.488/2007, deverão ser entregues no ato de abertura da sessão, na Sala de Licitações no 1º Andar – \\nGerência de Licitações da Fundação para o Desenvolvimento da \\nEducação - FDE, na Av. São Luís, 99 - São Paulo - SP .\\nEsta Licitação será processada em conformidade com a LEI \\nFEDERAL nº 8.666/1993, pela Lei Estadual n° 6.544/1989, com \\nas alterações da Lei Estadual nº 13.121/2008, pelo Decreto Esta-dual nº 56.565/2010, Lei Complementar nº 123 de 14/12/2006, \\nalterada pela Lei Complementar nº 147 de 07/08/2014 e pelas \\ndemais normas legais e regulamentares aplicáveis à espécie e com o disposto no TERMO DE REFERÊNCIA - TR, parte integrante \\ndo edital. A opção da Administração por licitar de acordo com a \\nLei Federal nº 8.666/1993 e as normas mencionadas no parágra-fo anterior observa o disposto no artigo 191 combinado com o \\ninciso II do artigo 193 da Lei Federal nº 14.133/2021.\\nALESSANDRO HIDALGOGerente de Licitações\\n GOVERNO DO ESTADO DE SÃO PAULO\\nSECRETARIA DE ESTADO DA EDUCAÇÃOFDE AVISA: ABERTURA DE LICITAÇÃO - OBRAS\\nA FUNDAÇÃO PARA O DESENVOLVIMENTO DA EDUCAÇÃO \\n- FDE comunica às empresas interessadas que acha-se aberta licitação para execução de Obras:\\n\\x81 CONCORRÊNCIA Nº: 69/00721/23/01 - FDE-SEI \\n29.00005254/2023-16 – OBJETO: Serviços Especializados de Engenharia - Acessibilidade (Construção / Reforma) - PRÉDIO(S) O Edital poderá ser consultado nos endereços eletrônicos \\nhttps://www.imprensaoficial.com.br e https://www.agricultura.sp.gov.br/editais, podendo também ser solicitado através do e-mail suprimentosagricultura@sp.gov.br.\\n CENTRO DE LICITAÇÕES E COMPRASAVISO DE LICITAÇÃOProcesso SAA nº: 007.00042280/2023-31Pregão Eletrônico IZ nº: 24/2023Oferta de Compra nº: 130036000012023OC00025Encontra-se aberta na Secretaria de Agricultura e Abasteci-\\nmento do Estado de São Paulo, por intermédio da Instituto de Zootecnia, licitação na modalidade PREGÃO ELETRÔNICO, do \\ntipo MENOR PREÇO, para a Aquisição de medicamentos para \\nanimais e materiais correlatos, a data do início do prazo para o \\nenvio da proposta eletrônica será dia 31/10/2023 e a abertura \\nda Sessão Pública será no dia 16/11/2023 às 10:00 horas.\\nO Edital poderá ser consultado nos endereços eletrônicos \\nhttps://www.imprensaoficial.com.br e https://www.agricultura.\\nsp.gov.br/editais, podendo também ser solicitado através do \\ne-mail suprimentosagricultura@sp.gov.br\\nCENTRO DE LICITAÇÕES E COMPRAS\\nAVISO DE LICITAÇÃO\\nProcesso SAA nº: 007.00042280/2023-31\\nPregão Eletrônico IZ nº: 25/2023\\nOferta de Compra nº: 130036000012023OC00024\\nEncontra-se aberta na Secretaria de Agricultura e Abasteci-\\nmento do Estado de São Paulo, por intermédio da Instituto de Zootecnia, licitação na modalidade PREGÃO ELETRÔNICO, do \\ntipo MENOR PREÇO, para a Aquisição de medicamentos para \\nanimais e materiais correlatos, a data do início do prazo para o \\nenvio da proposta eletrônica será dia 31/10/2023 e a abertura \\nda Sessão Pública será no dia 16/11/2023 às 10:00 horas.\\nO Edital poderá ser consultado nos endereços eletrônicos \\nhttps://www.imprensaoficial.com.br e https://www.agricultura.sp.gov.br/editais, podendo também ser solicitado através do \\ne-mail suprimentosagricultura@sp.gov.br.\\n Centro de Apoio a Gestão de Contratos\\n CENTRO DE APOIO À GESTÃO DE CONTRATOS\\nEXTRATO DE TERMO ADITIVO\\nProcesso SAA nº 02560/2022. SEI 007.00002982/2023-81. \\nContrato CATI nº 06/2022. Segundo Termo Aditivo. Parecer Jurí-dico Resolução PGE nº 23, de 12/11/2015. Contratante: Coorde-\\nnadoria de Assistência Técnica Integral - CATI. Contratada: Ulrik \\nComércio e Serviços Eireli - CNPJ/MF nº 21.479.037/0001-14. \\nObjeto: Prorrogação do prazo de vigência contratual para a pres-\\ntação de serviços à campo e administrativo com a finalidade de \\ndesenvolver atividades inerentes ao Cadastro Ambiental Rural \\n- CAR. Prazo Contratual: 09 (nove) meses. Vigência: 23/11/2023 à 22/08/2024. Data de Assinatura: 27/10/2023. Valor Total: R$ \\n7.628.002,20 (sete milhões, seiscentos e vinte e oito mil, dois \\nreais e vinte centavos), sendo o valor de R$ 1.073.570,68 (Um \\nmilhão, setenta e três mil, quinhentos e setenta reais, sessenta \\ne oito centavos) para o exercício de 2023 e o valor de R$ \\n6.554.431,52 (seis milhões, quinhentos e cinquenta e quatro \\nmil, quatrocentos e trinta e um reais, cinquenta e dois centavos), para o exercício de 2024. Classificação dos Recursos: UGE \\n130104 – Coordenadoria Assistência Técnica Integral - CATI, \\nPrograma de Trabalho 20.606.131.760.77.0000, Natureza de \\nDespesa 3.3.90.39-99.2023NE00824.\\n DIREITOS DA PESSOA COM DEFICIÊNCIA\\n GABINETE DO SECRETÁRIO\\n EXTRATO DE CONTRATO\\nPROCESSO 014.00000289/2023-11\\nContrato SEDPcD: 014/2023Contratante: Secretaria de Estado dos Direitos da Pessoa \\ncom Deficiência\\nContratada: Previni Comércio e Sistemas Eletrônicos - EIRE-\\nLI, CNPJ nº 01.553.625/0001-43\\nOBJETO: Prestação de serviços de Prevenção e Combate a \\nIncêndio por Bombeiro Civil\\nModalidade da Licitação: Pregão Eletrônico, Lei 10.520/2002\\nValor total da contratação: R$ 1.198.206,02 (um milhão, \\ncento e noventa e oito mil, duzentos e seis reais e dois centavos)\\nData da celebração: 27/10/2023\\nCrédito Orçamentário: UGE 470101, PT \\n14.422.4700.5962.0000, ND 339039\\nVigência: 30 (trinta) meses\\nParecer CJ/SEDPcD n.º 40/2023 de 28/08/2023\\n EXTRATO DE CONTRATO\\nProcesso 014.00000276/2023-42Contrato SEDPcD nº 015/2023\\nContratante: Secretaria de Estado dos Direitos da Pessoa \\ncom Deficiência\\nContratada: VIKS ELEVADORES LTDA - ME, CNPJ nº \\n35.164.244/0001-94\\nObjeto: Prestação de serviços de manutenção preventi-\\nva, preditiva e corretiva de 02 (dois) elevadores, ambos de fabricação da empresa ThyssenKrupp Elevadores, com casa de \\nmáquinas, para uso de passageiros e serviços, com capacidade \\npara 16 (dezesseis) pessoas ou 1120 kg, com 5 (cinco) paradas, \\nna SECRETARIA DE ESTADO DOS DIREITOS DA PESSOA COM \\nDEFICIÊNCIA\\nModalidade da Licitação: Pregão Eletrônico, Lei 10.520/2002\\nValor total da contratação: R$ 15.000,00 (quinze mil reais)Data da celebração: 27/10/2023\\nCrédito Orçamentário: UGE 470102, PT \\n14.422.4700.5962.0000, ND 33903980\\nVigência: 15 (quinze) meses\\nParecer CJ/SEDPcD nº 37/2023 de 18/08/2023\\n DEPARTAMENTO DE ADMINISTRAÇÃO\\n EXTRATO DE CONTRATO\\nPROCESSO 014.00000146/2023-18\\nContrato SEDPcD: 013/2023Contratante: Secretaria de Estado dos Direitos da Pessoa \\ncom Deficiência\\nContratada: Telefônica Brasil S/A, CNPJ nº 02.558.157/0001-62\\nOBJETO: Prestação de serviços de telefonia móvel pessoal \\n(SMP) e encaminhamento de ligações de longa distância (STFC-\\n-LD), de acordo com as normas e regulamentos expedidos \\npela Agência Nacional de Telecomunicações – ANATEL, com a disponibilização de estações móveis, em regime de comodato, e \\nserviço móvel com tecnologia 4G ou superior\\nModalidade da Licitação: Pregão Eletrônico, Lei 10.520/2002\\nValor total da contratação: R$ 187.389,00 (cento e oitenta \\ne sete mil, trezentos e oitenta e nove reais)\\nData da celebração: 26/10/2023Crédito Orçamentário: UGE 470102, PT \\n14.422.4700.5962.0000, ND 33903999\\nVigência: 15 (quinze) meses\\nParecer CJ/SEDPcD n.º 28/2023 de 03/07/2023\\n EDUCAÇÃO\\n GABINETE DO SECRETÁRIO\\n CHEFIA DE GABINETE\\n Departamento de Administração\\n PROCESSO Nº: SEI: 015.00022684/2023-27\\nÀ vista dos elementos que constam dos autos, especial-\\nmente dos relatórios constantes nos autos, com fulcro no \\ndisposto no inciso XXII, do art. 4º, da Lei Federal 10.520/2002, HOMOLOGO o procedimento licitatório realizado na modalida-\\n'"
      ]
     },
     "execution_count": 39,
     "metadata": {},
     "output_type": "execute_result"
    }
   ],
   "source": [
    "conteudo"
   ]
  },
  {
   "cell_type": "code",
   "execution_count": 44,
   "metadata": {},
   "outputs": [],
   "source": [
    "padrao = re.compile(r'\\bTOMADA\\sDE\\sPREÇOS\\s\\b.{18}')\n",
    "\n",
    "correspondencias = re.findall(padrao, conteudo)"
   ]
  },
  {
   "cell_type": "code",
   "execution_count": 45,
   "metadata": {},
   "outputs": [
    {
     "name": "stdout",
     "output_type": "stream",
     "text": [
      "TOMADA DE PREÇOS Nº: 69/00654/23/02\n",
      "TOMADA DE PREÇOS Nº: 50/00007/23/02\n",
      "TOMADA DE PREÇOS Nº: 50/00007/22/02\n",
      "TOMADA DE PREÇOS Nº: 50/00008/23/02\n",
      "TOMADA DE PREÇOS Nº: 50/00009/23/02\n",
      "TOMADA DE PREÇOS Nº: 46/00046/23/02\n"
     ]
    }
   ],
   "source": [
    "for valor in correspondencias:\n",
    "    print(valor)"
   ]
  }
 ],
 "metadata": {
  "kernelspec": {
   "display_name": "desafioenv",
   "language": "python",
   "name": "python3"
  },
  "language_info": {
   "codemirror_mode": {
    "name": "ipython",
    "version": 3
   },
   "file_extension": ".py",
   "mimetype": "text/x-python",
   "name": "python",
   "nbconvert_exporter": "python",
   "pygments_lexer": "ipython3",
   "version": "3.11.2"
  }
 },
 "nbformat": 4,
 "nbformat_minor": 2
}
